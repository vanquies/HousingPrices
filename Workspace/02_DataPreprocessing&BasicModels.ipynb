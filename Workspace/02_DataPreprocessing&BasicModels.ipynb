{
 "cells": [
  {
   "cell_type": "markdown",
   "id": "02f1e527",
   "metadata": {},
   "source": [
    "# 2. Data preprocessing and basic models"
   ]
  },
  {
   "cell_type": "markdown",
   "id": "704966ad",
   "metadata": {},
   "source": [
    "## 2.1 Imports"
   ]
  },
  {
   "cell_type": "code",
   "execution_count": 1,
   "id": "e0fb2bf5",
   "metadata": {},
   "outputs": [
    {
     "name": "stderr",
     "output_type": "stream",
     "text": [
      "C:\\Users\\brtkr\\anaconda3\\lib\\site-packages\\xgboost\\compat.py:36: FutureWarning: pandas.Int64Index is deprecated and will be removed from pandas in a future version. Use pandas.Index with the appropriate dtype instead.\n",
      "  from pandas import MultiIndex, Int64Index\n"
     ]
    }
   ],
   "source": [
    "import category_encoders as ce\n",
    "import math\n",
    "import matplotlib.pyplot as plt\n",
    "import numpy as np\n",
    "import pandas as pd \n",
    "import seaborn as sns\n",
    "import statsmodels.api as sm\n",
    "import warnings\n",
    "\n",
    "from numpy import savetxt\n",
    "from sklearn.model_selection import train_test_split\n",
    "from sklearn.preprocessing import RobustScaler\n",
    "from statsmodels.stats.outliers_influence import variance_inflation_factor\n",
    "from statsmodels.tools.tools import add_constant\n",
    "from sklearn import metrics\n",
    "from sklearn.ensemble import RandomForestRegressor\n",
    "from sklearn.linear_model import LinearRegression, RANSACRegressor\n",
    "from sklearn.svm import SVR\n",
    "from xgboost import XGBRegressor\n",
    "\n",
    "%matplotlib inline\n",
    "warnings.filterwarnings('ignore')\n",
    "seed = 101"
   ]
  },
  {
   "cell_type": "code",
   "execution_count": 2,
   "id": "4080694d",
   "metadata": {},
   "outputs": [],
   "source": [
    "Housing = pd.read_csv(\"../Data/HousingCleaned.csv\", parse_dates=['SaleDate'])"
   ]
  },
  {
   "cell_type": "code",
   "execution_count": 3,
   "id": "0231ba42",
   "metadata": {},
   "outputs": [
    {
     "name": "stdout",
     "output_type": "stream",
     "text": [
      "<class 'pandas.core.frame.DataFrame'>\n",
      "RangeIndex: 13580 entries, 0 to 13579\n",
      "Data columns (total 18 columns):\n",
      " #   Column         Non-Null Count  Dtype         \n",
      "---  ------         --------------  -----         \n",
      " 0   Suburb         13580 non-null  object        \n",
      " 1   Rooms          13580 non-null  int64         \n",
      " 2   Type           13580 non-null  object        \n",
      " 3   Price          13580 non-null  float64       \n",
      " 4   Method         13580 non-null  object        \n",
      " 5   SaleDate       13580 non-null  datetime64[ns]\n",
      " 6   Distance       13580 non-null  float64       \n",
      " 7   Bedrooms       13580 non-null  float64       \n",
      " 8   Bathrooms      13580 non-null  float64       \n",
      " 9   CarSpots       13518 non-null  float64       \n",
      " 10  LandSize       13580 non-null  float64       \n",
      " 11  BuildingArea   7130 non-null   float64       \n",
      " 12  YearBuilt      8205 non-null   float64       \n",
      " 13  CouncilArea    12211 non-null  object        \n",
      " 14  Latitude       13580 non-null  float64       \n",
      " 15  Longitude      13580 non-null  float64       \n",
      " 16  RegionName     13580 non-null  object        \n",
      " 17  PropertyCount  13580 non-null  float64       \n",
      "dtypes: datetime64[ns](1), float64(11), int64(1), object(5)\n",
      "memory usage: 5.5 MB\n"
     ]
    }
   ],
   "source": [
    "Housing.info(memory_usage='deep')"
   ]
  },
  {
   "cell_type": "markdown",
   "id": "2a3be903",
   "metadata": {},
   "source": [
    "## 2.2 Data preprocessing"
   ]
  },
  {
   "cell_type": "markdown",
   "id": "0ee80831",
   "metadata": {},
   "source": [
    "### 2.2.1 NaN values elimination"
   ]
  },
  {
   "cell_type": "code",
   "execution_count": 4,
   "id": "a98e4911",
   "metadata": {},
   "outputs": [
    {
     "data": {
      "text/plain": [
       "CarSpots          62\n",
       "BuildingArea    6450\n",
       "YearBuilt       5375\n",
       "CouncilArea     1369\n",
       "dtype: int64"
      ]
     },
     "execution_count": 4,
     "metadata": {},
     "output_type": "execute_result"
    }
   ],
   "source": [
    "Housing.isna().sum().iloc[Housing.isna().sum().to_numpy().nonzero()]"
   ]
  },
  {
   "cell_type": "code",
   "execution_count": 5,
   "id": "eeb6ebcb",
   "metadata": {},
   "outputs": [
    {
     "data": {
      "text/html": [
       "<div>\n",
       "<style scoped>\n",
       "    .dataframe tbody tr th:only-of-type {\n",
       "        vertical-align: middle;\n",
       "    }\n",
       "\n",
       "    .dataframe tbody tr th {\n",
       "        vertical-align: top;\n",
       "    }\n",
       "\n",
       "    .dataframe thead th {\n",
       "        text-align: right;\n",
       "    }\n",
       "</style>\n",
       "<table border=\"1\" class=\"dataframe\">\n",
       "  <thead>\n",
       "    <tr style=\"text-align: right;\">\n",
       "      <th></th>\n",
       "      <th>Suburb</th>\n",
       "      <th>Rooms</th>\n",
       "      <th>Type</th>\n",
       "      <th>Price</th>\n",
       "      <th>Method</th>\n",
       "      <th>SaleDate</th>\n",
       "      <th>Distance</th>\n",
       "      <th>Bedrooms</th>\n",
       "      <th>Bathrooms</th>\n",
       "      <th>CarSpots</th>\n",
       "      <th>LandSize</th>\n",
       "      <th>BuildingArea</th>\n",
       "      <th>YearBuilt</th>\n",
       "      <th>CouncilArea</th>\n",
       "      <th>Latitude</th>\n",
       "      <th>Longitude</th>\n",
       "      <th>RegionName</th>\n",
       "      <th>PropertyCount</th>\n",
       "    </tr>\n",
       "  </thead>\n",
       "  <tbody>\n",
       "    <tr>\n",
       "      <th>13575</th>\n",
       "      <td>Wheelers Hill</td>\n",
       "      <td>4</td>\n",
       "      <td>h</td>\n",
       "      <td>1245000.0</td>\n",
       "      <td>S</td>\n",
       "      <td>2017-08-26</td>\n",
       "      <td>16.7</td>\n",
       "      <td>4.0</td>\n",
       "      <td>2.0</td>\n",
       "      <td>2.0</td>\n",
       "      <td>652.0</td>\n",
       "      <td>NaN</td>\n",
       "      <td>1981.0</td>\n",
       "      <td>NaN</td>\n",
       "      <td>-37.90562</td>\n",
       "      <td>145.16761</td>\n",
       "      <td>South-Eastern Metropolitan</td>\n",
       "      <td>7392.0</td>\n",
       "    </tr>\n",
       "    <tr>\n",
       "      <th>13576</th>\n",
       "      <td>Williamstown</td>\n",
       "      <td>3</td>\n",
       "      <td>h</td>\n",
       "      <td>1031000.0</td>\n",
       "      <td>SP</td>\n",
       "      <td>2017-08-26</td>\n",
       "      <td>6.8</td>\n",
       "      <td>3.0</td>\n",
       "      <td>2.0</td>\n",
       "      <td>2.0</td>\n",
       "      <td>333.0</td>\n",
       "      <td>133.0</td>\n",
       "      <td>1995.0</td>\n",
       "      <td>NaN</td>\n",
       "      <td>-37.85927</td>\n",
       "      <td>144.87904</td>\n",
       "      <td>Western Metropolitan</td>\n",
       "      <td>6380.0</td>\n",
       "    </tr>\n",
       "    <tr>\n",
       "      <th>13577</th>\n",
       "      <td>Williamstown</td>\n",
       "      <td>3</td>\n",
       "      <td>h</td>\n",
       "      <td>1170000.0</td>\n",
       "      <td>S</td>\n",
       "      <td>2017-08-26</td>\n",
       "      <td>6.8</td>\n",
       "      <td>3.0</td>\n",
       "      <td>2.0</td>\n",
       "      <td>4.0</td>\n",
       "      <td>436.0</td>\n",
       "      <td>NaN</td>\n",
       "      <td>1997.0</td>\n",
       "      <td>NaN</td>\n",
       "      <td>-37.85274</td>\n",
       "      <td>144.88738</td>\n",
       "      <td>Western Metropolitan</td>\n",
       "      <td>6380.0</td>\n",
       "    </tr>\n",
       "    <tr>\n",
       "      <th>13578</th>\n",
       "      <td>Williamstown</td>\n",
       "      <td>4</td>\n",
       "      <td>h</td>\n",
       "      <td>2500000.0</td>\n",
       "      <td>PI</td>\n",
       "      <td>2017-08-26</td>\n",
       "      <td>6.8</td>\n",
       "      <td>4.0</td>\n",
       "      <td>1.0</td>\n",
       "      <td>5.0</td>\n",
       "      <td>866.0</td>\n",
       "      <td>157.0</td>\n",
       "      <td>1920.0</td>\n",
       "      <td>NaN</td>\n",
       "      <td>-37.85908</td>\n",
       "      <td>144.89299</td>\n",
       "      <td>Western Metropolitan</td>\n",
       "      <td>6380.0</td>\n",
       "    </tr>\n",
       "    <tr>\n",
       "      <th>13579</th>\n",
       "      <td>Yarraville</td>\n",
       "      <td>4</td>\n",
       "      <td>h</td>\n",
       "      <td>1285000.0</td>\n",
       "      <td>SP</td>\n",
       "      <td>2017-08-26</td>\n",
       "      <td>6.3</td>\n",
       "      <td>4.0</td>\n",
       "      <td>1.0</td>\n",
       "      <td>1.0</td>\n",
       "      <td>362.0</td>\n",
       "      <td>112.0</td>\n",
       "      <td>1920.0</td>\n",
       "      <td>NaN</td>\n",
       "      <td>-37.81188</td>\n",
       "      <td>144.88449</td>\n",
       "      <td>Western Metropolitan</td>\n",
       "      <td>6543.0</td>\n",
       "    </tr>\n",
       "  </tbody>\n",
       "</table>\n",
       "</div>"
      ],
      "text/plain": [
       "              Suburb  Rooms Type      Price Method   SaleDate  Distance  \\\n",
       "13575  Wheelers Hill      4    h  1245000.0      S 2017-08-26      16.7   \n",
       "13576   Williamstown      3    h  1031000.0     SP 2017-08-26       6.8   \n",
       "13577   Williamstown      3    h  1170000.0      S 2017-08-26       6.8   \n",
       "13578   Williamstown      4    h  2500000.0     PI 2017-08-26       6.8   \n",
       "13579     Yarraville      4    h  1285000.0     SP 2017-08-26       6.3   \n",
       "\n",
       "       Bedrooms  Bathrooms  CarSpots  LandSize  BuildingArea  YearBuilt  \\\n",
       "13575       4.0        2.0       2.0     652.0           NaN     1981.0   \n",
       "13576       3.0        2.0       2.0     333.0         133.0     1995.0   \n",
       "13577       3.0        2.0       4.0     436.0           NaN     1997.0   \n",
       "13578       4.0        1.0       5.0     866.0         157.0     1920.0   \n",
       "13579       4.0        1.0       1.0     362.0         112.0     1920.0   \n",
       "\n",
       "      CouncilArea  Latitude  Longitude                  RegionName  \\\n",
       "13575         NaN -37.90562  145.16761  South-Eastern Metropolitan   \n",
       "13576         NaN -37.85927  144.87904        Western Metropolitan   \n",
       "13577         NaN -37.85274  144.88738        Western Metropolitan   \n",
       "13578         NaN -37.85908  144.89299        Western Metropolitan   \n",
       "13579         NaN -37.81188  144.88449        Western Metropolitan   \n",
       "\n",
       "       PropertyCount  \n",
       "13575         7392.0  \n",
       "13576         6380.0  \n",
       "13577         6380.0  \n",
       "13578         6380.0  \n",
       "13579         6543.0  "
      ]
     },
     "execution_count": 5,
     "metadata": {},
     "output_type": "execute_result"
    }
   ],
   "source": [
    "Housing.tail(5)"
   ]
  },
  {
   "cell_type": "code",
   "execution_count": 6,
   "id": "8ff4f5b1",
   "metadata": {},
   "outputs": [],
   "source": [
    "suburb = Housing[Housing['CouncilArea'].isna()].loc[:,['Suburb']]\n",
    "suburb = suburb['Suburb'].unique().tolist()\n",
    "\n",
    "council = []\n",
    "\n",
    "for i in suburb:\n",
    "    try:\n",
    "        element = Housing[Housing['Suburb'] == i].loc[:,['CouncilArea']].mode().iloc[0][0]\n",
    "        council.append(element)\n",
    "    except:\n",
    "        element = Housing['CouncilArea'].mode().iloc[0]\n",
    "        council.append(element)\n",
    "\n",
    "council_dict = {suburb[i]: council[i] for i in range(len(suburb))}"
   ]
  },
  {
   "cell_type": "markdown",
   "id": "67f4bda0",
   "metadata": {},
   "source": [
    "Function above creates dictionary where every suburb (containing at least one property with NaN council area) is assigned to proper council area (It is possible because council area is broader concept than suburb). With this dictionary, imputation of council area can be implemented based on suburb value as it does code below."
   ]
  },
  {
   "cell_type": "code",
   "execution_count": 7,
   "id": "49210841",
   "metadata": {},
   "outputs": [],
   "source": [
    "for i, row in Housing.iterrows():\n",
    "    if type(row['CouncilArea']) != str:\n",
    "        for key, value in council_dict.items():\n",
    "            if row['Suburb'] == key:\n",
    "                Housing.loc[i,'CouncilArea'] = value"
   ]
  },
  {
   "cell_type": "code",
   "execution_count": 8,
   "id": "a2c80a20",
   "metadata": {},
   "outputs": [],
   "source": [
    "Housing.sort_values(by='LandSize', inplace=True)\n",
    "Housing['BuildingArea'].fillna(method='bfill', inplace=True)"
   ]
  },
  {
   "cell_type": "code",
   "execution_count": 9,
   "id": "97997a24",
   "metadata": {},
   "outputs": [],
   "source": [
    "Housing.sort_values(by='Price', inplace=True)\n",
    "Housing['YearBuilt'].fillna(method='ffill', inplace=True)\n"
   ]
  },
  {
   "cell_type": "code",
   "execution_count": 10,
   "id": "941f3a93",
   "metadata": {},
   "outputs": [],
   "source": [
    "Housing['CarSpots'].fillna(value=Housing['CarSpots'].mode()[0], inplace=True)"
   ]
  },
  {
   "cell_type": "markdown",
   "id": "13365daf",
   "metadata": {},
   "source": [
    "Other NaN imputation is done with more typical methods (bfill, ffill, statistical mode)."
   ]
  },
  {
   "cell_type": "markdown",
   "id": "c6d3e933",
   "metadata": {},
   "source": [
    "### 2.2.2 Outliers detection and treatment"
   ]
  },
  {
   "cell_type": "code",
   "execution_count": 11,
   "id": "dfcc1b2f",
   "metadata": {},
   "outputs": [
    {
     "data": {
      "text/html": [
       "<div>\n",
       "<style scoped>\n",
       "    .dataframe tbody tr th:only-of-type {\n",
       "        vertical-align: middle;\n",
       "    }\n",
       "\n",
       "    .dataframe tbody tr th {\n",
       "        vertical-align: top;\n",
       "    }\n",
       "\n",
       "    .dataframe thead th {\n",
       "        text-align: right;\n",
       "    }\n",
       "</style>\n",
       "<table border=\"1\" class=\"dataframe\">\n",
       "  <thead>\n",
       "    <tr style=\"text-align: right;\">\n",
       "      <th></th>\n",
       "      <th>Suburb</th>\n",
       "      <th>Rooms</th>\n",
       "      <th>Type</th>\n",
       "      <th>Price</th>\n",
       "      <th>Method</th>\n",
       "      <th>SaleDate</th>\n",
       "      <th>Distance</th>\n",
       "      <th>Bedrooms</th>\n",
       "      <th>Bathrooms</th>\n",
       "      <th>CarSpots</th>\n",
       "      <th>LandSize</th>\n",
       "      <th>BuildingArea</th>\n",
       "      <th>YearBuilt</th>\n",
       "      <th>CouncilArea</th>\n",
       "      <th>Latitude</th>\n",
       "      <th>Longitude</th>\n",
       "      <th>RegionName</th>\n",
       "      <th>PropertyCount</th>\n",
       "    </tr>\n",
       "  </thead>\n",
       "  <tbody>\n",
       "    <tr>\n",
       "      <th>5086</th>\n",
       "      <td>Reservoir</td>\n",
       "      <td>3</td>\n",
       "      <td>u</td>\n",
       "      <td>301000.0</td>\n",
       "      <td>SP</td>\n",
       "      <td>2016-10-09</td>\n",
       "      <td>11.2</td>\n",
       "      <td>3.0</td>\n",
       "      <td>1.0</td>\n",
       "      <td>1.0</td>\n",
       "      <td>0.0</td>\n",
       "      <td>63.0</td>\n",
       "      <td>1970.0</td>\n",
       "      <td>Darebin</td>\n",
       "      <td>-37.72720</td>\n",
       "      <td>145.00570</td>\n",
       "      <td>Northern Metropolitan</td>\n",
       "      <td>21650.0</td>\n",
       "    </tr>\n",
       "    <tr>\n",
       "      <th>9301</th>\n",
       "      <td>Reservoir</td>\n",
       "      <td>3</td>\n",
       "      <td>t</td>\n",
       "      <td>642500.0</td>\n",
       "      <td>S</td>\n",
       "      <td>2017-03-06</td>\n",
       "      <td>12.0</td>\n",
       "      <td>3.0</td>\n",
       "      <td>2.0</td>\n",
       "      <td>2.0</td>\n",
       "      <td>160.0</td>\n",
       "      <td>140.0</td>\n",
       "      <td>2010.0</td>\n",
       "      <td>Darebin</td>\n",
       "      <td>-37.71064</td>\n",
       "      <td>145.01067</td>\n",
       "      <td>Northern Metropolitan</td>\n",
       "      <td>21650.0</td>\n",
       "    </tr>\n",
       "    <tr>\n",
       "      <th>5061</th>\n",
       "      <td>Reservoir</td>\n",
       "      <td>4</td>\n",
       "      <td>h</td>\n",
       "      <td>851000.0</td>\n",
       "      <td>S</td>\n",
       "      <td>2016-07-11</td>\n",
       "      <td>11.2</td>\n",
       "      <td>4.0</td>\n",
       "      <td>2.0</td>\n",
       "      <td>2.0</td>\n",
       "      <td>581.0</td>\n",
       "      <td>244.0</td>\n",
       "      <td>2006.0</td>\n",
       "      <td>Darebin</td>\n",
       "      <td>-37.69260</td>\n",
       "      <td>144.98610</td>\n",
       "      <td>Northern Metropolitan</td>\n",
       "      <td>21650.0</td>\n",
       "    </tr>\n",
       "    <tr>\n",
       "      <th>10483</th>\n",
       "      <td>Reservoir</td>\n",
       "      <td>3</td>\n",
       "      <td>h</td>\n",
       "      <td>700000.0</td>\n",
       "      <td>S</td>\n",
       "      <td>2017-05-27</td>\n",
       "      <td>12.0</td>\n",
       "      <td>3.0</td>\n",
       "      <td>2.0</td>\n",
       "      <td>1.0</td>\n",
       "      <td>301.0</td>\n",
       "      <td>380.0</td>\n",
       "      <td>1950.0</td>\n",
       "      <td>Darebin</td>\n",
       "      <td>-37.72839</td>\n",
       "      <td>145.00105</td>\n",
       "      <td>Northern Metropolitan</td>\n",
       "      <td>21650.0</td>\n",
       "    </tr>\n",
       "    <tr>\n",
       "      <th>13527</th>\n",
       "      <td>Reservoir</td>\n",
       "      <td>4</td>\n",
       "      <td>h</td>\n",
       "      <td>1112000.0</td>\n",
       "      <td>S</td>\n",
       "      <td>2017-08-26</td>\n",
       "      <td>12.0</td>\n",
       "      <td>4.0</td>\n",
       "      <td>2.0</td>\n",
       "      <td>10.0</td>\n",
       "      <td>1002.0</td>\n",
       "      <td>170.0</td>\n",
       "      <td>1985.0</td>\n",
       "      <td>Darebin</td>\n",
       "      <td>-37.70671</td>\n",
       "      <td>145.03086</td>\n",
       "      <td>Northern Metropolitan</td>\n",
       "      <td>21650.0</td>\n",
       "    </tr>\n",
       "  </tbody>\n",
       "</table>\n",
       "</div>"
      ],
      "text/plain": [
       "          Suburb  Rooms Type      Price Method   SaleDate  Distance  Bedrooms  \\\n",
       "5086   Reservoir      3    u   301000.0     SP 2016-10-09      11.2       3.0   \n",
       "9301   Reservoir      3    t   642500.0      S 2017-03-06      12.0       3.0   \n",
       "5061   Reservoir      4    h   851000.0      S 2016-07-11      11.2       4.0   \n",
       "10483  Reservoir      3    h   700000.0      S 2017-05-27      12.0       3.0   \n",
       "13527  Reservoir      4    h  1112000.0      S 2017-08-26      12.0       4.0   \n",
       "\n",
       "       Bathrooms  CarSpots  LandSize  BuildingArea  YearBuilt CouncilArea  \\\n",
       "5086         1.0       1.0       0.0          63.0     1970.0     Darebin   \n",
       "9301         2.0       2.0     160.0         140.0     2010.0     Darebin   \n",
       "5061         2.0       2.0     581.0         244.0     2006.0     Darebin   \n",
       "10483        2.0       1.0     301.0         380.0     1950.0     Darebin   \n",
       "13527        2.0      10.0    1002.0         170.0     1985.0     Darebin   \n",
       "\n",
       "       Latitude  Longitude             RegionName  PropertyCount  \n",
       "5086  -37.72720  145.00570  Northern Metropolitan        21650.0  \n",
       "9301  -37.71064  145.01067  Northern Metropolitan        21650.0  \n",
       "5061  -37.69260  144.98610  Northern Metropolitan        21650.0  \n",
       "10483 -37.72839  145.00105  Northern Metropolitan        21650.0  \n",
       "13527 -37.70671  145.03086  Northern Metropolitan        21650.0  "
      ]
     },
     "execution_count": 11,
     "metadata": {},
     "output_type": "execute_result"
    }
   ],
   "source": [
    "Housing[Housing['PropertyCount'] > 20000].sample(5)"
   ]
  },
  {
   "cell_type": "code",
   "execution_count": 12,
   "id": "419d0d4f",
   "metadata": {},
   "outputs": [
    {
     "data": {
      "text/plain": [
       "<AxesSubplot:ylabel='Longitude'>"
      ]
     },
     "execution_count": 12,
     "metadata": {},
     "output_type": "execute_result"
    },
    {
     "data": {
      "image/png": "[encoded data removed]",
      "text/plain": [
       "<Figure size 1152x1152 with 12 Axes>"
      ]
     },
     "metadata": {
      "needs_background": "light"
     },
     "output_type": "display_data"
    }
   ],
   "source": [
    "f, ax = plt.subplots(3, 4, figsize=(16,16))\n",
    "\n",
    "sns.boxplot(ax=ax[0,0], data=Housing, y='Rooms')\n",
    "sns.boxplot(ax=ax[0,1], data=Housing, y='Bedrooms')\n",
    "sns.boxplot(ax=ax[0,2], data=Housing, y='Bathrooms')\n",
    "sns.boxplot(ax=ax[0,3], data=Housing, y='CarSpots')\n",
    "sns.boxplot(ax=ax[1,0], data=Housing, y='Distance')\n",
    "sns.boxplot(ax=ax[1,1], data=Housing, y='Price')\n",
    "sns.boxplot(ax=ax[1,2], data=Housing, y='LandSize')\n",
    "sns.boxplot(ax=ax[1,3], data=Housing, y='BuildingArea')\n",
    "sns.boxplot(ax=ax[2,0], data=Housing, y='YearBuilt')\n",
    "sns.boxplot(ax=ax[2,1], data=Housing, y='PropertyCount')\n",
    "sns.boxplot(ax=ax[2,2], data=Housing, y='Latitude')\n",
    "sns.boxplot(ax=ax[2,3], data=Housing, y='Longitude')"
   ]
  },
  {
   "cell_type": "markdown",
   "id": "09de0452",
   "metadata": {},
   "source": [
    "Most significant outliers belong to YearBuilt, Landsize, BuildingArea variables."
   ]
  },
  {
   "cell_type": "code",
   "execution_count": 13,
   "id": "42ed8275",
   "metadata": {},
   "outputs": [
    {
     "data": {
      "text/plain": [
       "(13580, 18)"
      ]
     },
     "execution_count": 13,
     "metadata": {},
     "output_type": "execute_result"
    }
   ],
   "source": [
    "Housing.shape"
   ]
  },
  {
   "cell_type": "code",
   "execution_count": 14,
   "id": "6851b230",
   "metadata": {},
   "outputs": [],
   "source": [
    "Housing = Housing[Housing['Bathrooms'] < 5]\n",
    "Housing = Housing[Housing['CarSpots'] < 5]\n",
    "Housing = Housing[Housing['Rooms'] < 7]\n",
    "Housing = Housing[Housing['Bedrooms'] < 7]\n",
    "Housing = Housing[Housing['YearBuilt'] > 1800]"
   ]
  },
  {
   "cell_type": "markdown",
   "id": "f39079ee",
   "metadata": {},
   "source": [
    "It was decided that outliers of five features above will be eliminated manualy (because of narrow range of values). On three other features with significant outliers was used IQR method. "
   ]
  },
  {
   "cell_type": "code",
   "execution_count": 15,
   "id": "0693ebfa",
   "metadata": {},
   "outputs": [],
   "source": [
    "outliered = [\"Price\", \"LandSize\", \"BuildingArea\"]\n",
    "\n",
    "for x in outliered:\n",
    "    Q1 = np.percentile(Housing[f'{x}'], 25, interpolation='midpoint')\n",
    "    Q3 = np.percentile(Housing[f'{x}'], 75, interpolation='midpoint')\n",
    "    IQR = Q3 - Q1\n",
    "\n",
    "    Housing = Housing[Housing[f'{x}'] <= (Q3+1.5*IQR)]\n",
    "    Housing = Housing[Housing[f'{x}'] >= (Q1-1.5*IQR)]"
   ]
  },
  {
   "cell_type": "code",
   "execution_count": 16,
   "id": "f2ce2915",
   "metadata": {},
   "outputs": [
    {
     "data": {
      "text/plain": [
       "(11938, 18)"
      ]
     },
     "execution_count": 16,
     "metadata": {},
     "output_type": "execute_result"
    }
   ],
   "source": [
    "Housing.shape"
   ]
  },
  {
   "cell_type": "markdown",
   "id": "0d8d5607",
   "metadata": {},
   "source": [
    "This process eliminated 1642 rows."
   ]
  },
  {
   "cell_type": "code",
   "execution_count": 17,
   "id": "3e2f7db4",
   "metadata": {},
   "outputs": [
    {
     "data": {
      "text/plain": [
       "<AxesSubplot:ylabel='Longitude'>"
      ]
     },
     "execution_count": 17,
     "metadata": {},
     "output_type": "execute_result"
    },
    {
     "data": {
      "image/png": "[encoded data removed]",
      "text/plain": [
       "<Figure size 1152x1152 with 12 Axes>"
      ]
     },
     "metadata": {
      "needs_background": "light"
     },
     "output_type": "display_data"
    }
   ],
   "source": [
    "f, ax = plt.subplots(3, 4, figsize=(16,16))\n",
    "\n",
    "sns.boxplot(ax=ax[0,0], data=Housing, y='Rooms')\n",
    "sns.boxplot(ax=ax[0,1], data=Housing, y='Bedrooms')\n",
    "sns.boxplot(ax=ax[0,2], data=Housing, y='Bathrooms')\n",
    "sns.boxplot(ax=ax[0,3], data=Housing, y='CarSpots')\n",
    "sns.boxplot(ax=ax[1,0], data=Housing, y='Distance')\n",
    "sns.boxplot(ax=ax[1,1], data=Housing, y='Price')\n",
    "sns.boxplot(ax=ax[1,2], data=Housing, y='LandSize')\n",
    "sns.boxplot(ax=ax[1,3], data=Housing, y='BuildingArea')\n",
    "sns.boxplot(ax=ax[2,0], data=Housing, y='YearBuilt')\n",
    "sns.boxplot(ax=ax[2,1], data=Housing, y='PropertyCount')\n",
    "sns.boxplot(ax=ax[2,2], data=Housing, y='Latitude')\n",
    "sns.boxplot(ax=ax[2,3], data=Housing, y='Longitude')"
   ]
  },
  {
   "cell_type": "markdown",
   "id": "f078486a",
   "metadata": {},
   "source": [
    "### 2.2.3 Feature engineering - Season variable instead of Date"
   ]
  },
  {
   "cell_type": "markdown",
   "id": "5b639e7b",
   "metadata": {},
   "source": [
    "In next step sale date was changed to year quarters. Which can be informative in modelling process."
   ]
  },
  {
   "cell_type": "code",
   "execution_count": 18,
   "id": "d4d23baf",
   "metadata": {},
   "outputs": [
    {
     "data": {
      "text/html": [
       "<div>\n",
       "<style scoped>\n",
       "    .dataframe tbody tr th:only-of-type {\n",
       "        vertical-align: middle;\n",
       "    }\n",
       "\n",
       "    .dataframe tbody tr th {\n",
       "        vertical-align: top;\n",
       "    }\n",
       "\n",
       "    .dataframe thead th {\n",
       "        text-align: right;\n",
       "    }\n",
       "</style>\n",
       "<table border=\"1\" class=\"dataframe\">\n",
       "  <thead>\n",
       "    <tr style=\"text-align: right;\">\n",
       "      <th></th>\n",
       "      <th>Suburb</th>\n",
       "      <th>Rooms</th>\n",
       "      <th>Type</th>\n",
       "      <th>Price</th>\n",
       "      <th>Method</th>\n",
       "      <th>Distance</th>\n",
       "      <th>Bedrooms</th>\n",
       "      <th>Bathrooms</th>\n",
       "      <th>CarSpots</th>\n",
       "      <th>LandSize</th>\n",
       "      <th>BuildingArea</th>\n",
       "      <th>YearBuilt</th>\n",
       "      <th>CouncilArea</th>\n",
       "      <th>Latitude</th>\n",
       "      <th>Longitude</th>\n",
       "      <th>RegionName</th>\n",
       "      <th>PropertyCount</th>\n",
       "      <th>Season</th>\n",
       "    </tr>\n",
       "  </thead>\n",
       "  <tbody>\n",
       "    <tr>\n",
       "      <th>8217</th>\n",
       "      <td>Pascoe Vale</td>\n",
       "      <td>2</td>\n",
       "      <td>u</td>\n",
       "      <td>497000.0</td>\n",
       "      <td>SP</td>\n",
       "      <td>9.9</td>\n",
       "      <td>2.0</td>\n",
       "      <td>1.0</td>\n",
       "      <td>1.0</td>\n",
       "      <td>123.0</td>\n",
       "      <td>73.0</td>\n",
       "      <td>1970.0</td>\n",
       "      <td>Moreland</td>\n",
       "      <td>-37.71810</td>\n",
       "      <td>144.93220</td>\n",
       "      <td>Northern Metropolitan</td>\n",
       "      <td>7485.0</td>\n",
       "      <td>2</td>\n",
       "    </tr>\n",
       "    <tr>\n",
       "      <th>11888</th>\n",
       "      <td>Bayswater</td>\n",
       "      <td>3</td>\n",
       "      <td>h</td>\n",
       "      <td>606000.0</td>\n",
       "      <td>S</td>\n",
       "      <td>23.2</td>\n",
       "      <td>3.0</td>\n",
       "      <td>1.0</td>\n",
       "      <td>1.0</td>\n",
       "      <td>424.0</td>\n",
       "      <td>94.0</td>\n",
       "      <td>1970.0</td>\n",
       "      <td>Knox</td>\n",
       "      <td>-37.84291</td>\n",
       "      <td>145.25545</td>\n",
       "      <td>Eastern Metropolitan</td>\n",
       "      <td>5030.0</td>\n",
       "      <td>3</td>\n",
       "    </tr>\n",
       "    <tr>\n",
       "      <th>5997</th>\n",
       "      <td>Sunshine</td>\n",
       "      <td>2</td>\n",
       "      <td>t</td>\n",
       "      <td>410000.0</td>\n",
       "      <td>SP</td>\n",
       "      <td>12.6</td>\n",
       "      <td>2.0</td>\n",
       "      <td>2.0</td>\n",
       "      <td>2.0</td>\n",
       "      <td>204.0</td>\n",
       "      <td>85.0</td>\n",
       "      <td>2008.0</td>\n",
       "      <td>Brimbank</td>\n",
       "      <td>-37.79820</td>\n",
       "      <td>144.82300</td>\n",
       "      <td>Western Metropolitan</td>\n",
       "      <td>3755.0</td>\n",
       "      <td>2</td>\n",
       "    </tr>\n",
       "    <tr>\n",
       "      <th>3152</th>\n",
       "      <td>Hawthorn</td>\n",
       "      <td>1</td>\n",
       "      <td>u</td>\n",
       "      <td>488000.0</td>\n",
       "      <td>S</td>\n",
       "      <td>4.6</td>\n",
       "      <td>1.0</td>\n",
       "      <td>1.0</td>\n",
       "      <td>1.0</td>\n",
       "      <td>0.0</td>\n",
       "      <td>57.0</td>\n",
       "      <td>2004.0</td>\n",
       "      <td>Boroondara</td>\n",
       "      <td>-37.82720</td>\n",
       "      <td>145.03430</td>\n",
       "      <td>Southern Metropolitan</td>\n",
       "      <td>11308.0</td>\n",
       "      <td>4</td>\n",
       "    </tr>\n",
       "    <tr>\n",
       "      <th>8388</th>\n",
       "      <td>St Kilda</td>\n",
       "      <td>1</td>\n",
       "      <td>u</td>\n",
       "      <td>350000.0</td>\n",
       "      <td>VB</td>\n",
       "      <td>6.1</td>\n",
       "      <td>1.0</td>\n",
       "      <td>1.0</td>\n",
       "      <td>1.0</td>\n",
       "      <td>1236.0</td>\n",
       "      <td>194.0</td>\n",
       "      <td>1968.0</td>\n",
       "      <td>Port Phillip</td>\n",
       "      <td>-37.85850</td>\n",
       "      <td>144.98840</td>\n",
       "      <td>Southern Metropolitan</td>\n",
       "      <td>13240.0</td>\n",
       "      <td>3</td>\n",
       "    </tr>\n",
       "  </tbody>\n",
       "</table>\n",
       "</div>"
      ],
      "text/plain": [
       "            Suburb  Rooms Type     Price Method  Distance  Bedrooms  \\\n",
       "8217   Pascoe Vale      2    u  497000.0     SP       9.9       2.0   \n",
       "11888    Bayswater      3    h  606000.0      S      23.2       3.0   \n",
       "5997      Sunshine      2    t  410000.0     SP      12.6       2.0   \n",
       "3152      Hawthorn      1    u  488000.0      S       4.6       1.0   \n",
       "8388      St Kilda      1    u  350000.0     VB       6.1       1.0   \n",
       "\n",
       "       Bathrooms  CarSpots  LandSize  BuildingArea  YearBuilt   CouncilArea  \\\n",
       "8217         1.0       1.0     123.0          73.0     1970.0      Moreland   \n",
       "11888        1.0       1.0     424.0          94.0     1970.0          Knox   \n",
       "5997         2.0       2.0     204.0          85.0     2008.0      Brimbank   \n",
       "3152         1.0       1.0       0.0          57.0     2004.0    Boroondara   \n",
       "8388         1.0       1.0    1236.0         194.0     1968.0  Port Phillip   \n",
       "\n",
       "       Latitude  Longitude             RegionName  PropertyCount  Season  \n",
       "8217  -37.71810  144.93220  Northern Metropolitan         7485.0       2  \n",
       "11888 -37.84291  145.25545   Eastern Metropolitan         5030.0       3  \n",
       "5997  -37.79820  144.82300   Western Metropolitan         3755.0       2  \n",
       "3152  -37.82720  145.03430  Southern Metropolitan        11308.0       4  \n",
       "8388  -37.85850  144.98840  Southern Metropolitan        13240.0       3  "
      ]
     },
     "execution_count": 18,
     "metadata": {},
     "output_type": "execute_result"
    }
   ],
   "source": [
    "Housing['Season'] = Housing['SaleDate'].dt.quarter\n",
    "Housing.drop(axis=1, columns=['SaleDate'], inplace=True)\n",
    "Housing.sample(5)"
   ]
  },
  {
   "cell_type": "code",
   "execution_count": 19,
   "id": "5dcf97fe",
   "metadata": {},
   "outputs": [
    {
     "data": {
      "text/plain": [
       "<AxesSubplot:xlabel='Season', ylabel='Price'>"
      ]
     },
     "execution_count": 19,
     "metadata": {},
     "output_type": "execute_result"
    },
    {
     "data": {
      "image/png": "[encoded data removed]",
      "text/plain": [
       "<Figure size 864x432 with 2 Axes>"
      ]
     },
     "metadata": {
      "needs_background": "light"
     },
     "output_type": "display_data"
    }
   ],
   "source": [
    "f, ax = plt.subplots(1, 2, figsize=(12,6))\n",
    "sns.countplot(ax=ax[0], x=Housing['Season'], palette='spring')\n",
    "sns.violinplot(ax=ax[1], y=Housing['Price'], x=Housing['Season'], palette='spring_r')"
   ]
  },
  {
   "cell_type": "markdown",
   "id": "f9f8fd0e",
   "metadata": {},
   "source": [
    "### 2.2.4 Skewness of variables "
   ]
  },
  {
   "cell_type": "code",
   "execution_count": 20,
   "id": "1175bf08",
   "metadata": {},
   "outputs": [
    {
     "data": {
      "text/html": [
       "<div>\n",
       "<style scoped>\n",
       "    .dataframe tbody tr th:only-of-type {\n",
       "        vertical-align: middle;\n",
       "    }\n",
       "\n",
       "    .dataframe tbody tr th {\n",
       "        vertical-align: top;\n",
       "    }\n",
       "\n",
       "    .dataframe thead th {\n",
       "        text-align: right;\n",
       "    }\n",
       "</style>\n",
       "<table border=\"1\" class=\"dataframe\">\n",
       "  <thead>\n",
       "    <tr style=\"text-align: right;\">\n",
       "      <th></th>\n",
       "      <th>Variable skewness</th>\n",
       "    </tr>\n",
       "  </thead>\n",
       "  <tbody>\n",
       "    <tr>\n",
       "      <th>Rooms</th>\n",
       "      <td>0.193826</td>\n",
       "    </tr>\n",
       "    <tr>\n",
       "      <th>Price</th>\n",
       "      <td>0.788830</td>\n",
       "    </tr>\n",
       "    <tr>\n",
       "      <th>Distance</th>\n",
       "      <td>1.564646</td>\n",
       "    </tr>\n",
       "    <tr>\n",
       "      <th>Bedrooms</th>\n",
       "      <td>0.165331</td>\n",
       "    </tr>\n",
       "    <tr>\n",
       "      <th>Bathrooms</th>\n",
       "      <td>0.909849</td>\n",
       "    </tr>\n",
       "    <tr>\n",
       "      <th>CarSpots</th>\n",
       "      <td>0.592602</td>\n",
       "    </tr>\n",
       "    <tr>\n",
       "      <th>LandSize</th>\n",
       "      <td>0.273316</td>\n",
       "    </tr>\n",
       "    <tr>\n",
       "      <th>BuildingArea</th>\n",
       "      <td>0.517664</td>\n",
       "    </tr>\n",
       "    <tr>\n",
       "      <th>YearBuilt</th>\n",
       "      <td>-0.500064</td>\n",
       "    </tr>\n",
       "    <tr>\n",
       "      <th>Latitude</th>\n",
       "      <td>-0.436912</td>\n",
       "    </tr>\n",
       "    <tr>\n",
       "      <th>Longitude</th>\n",
       "      <td>-0.224745</td>\n",
       "    </tr>\n",
       "    <tr>\n",
       "      <th>PropertyCount</th>\n",
       "      <td>1.080874</td>\n",
       "    </tr>\n",
       "    <tr>\n",
       "      <th>Season</th>\n",
       "      <td>-0.072997</td>\n",
       "    </tr>\n",
       "  </tbody>\n",
       "</table>\n",
       "</div>"
      ],
      "text/plain": [
       "               Variable skewness\n",
       "Rooms                   0.193826\n",
       "Price                   0.788830\n",
       "Distance                1.564646\n",
       "Bedrooms                0.165331\n",
       "Bathrooms               0.909849\n",
       "CarSpots                0.592602\n",
       "LandSize                0.273316\n",
       "BuildingArea            0.517664\n",
       "YearBuilt              -0.500064\n",
       "Latitude               -0.436912\n",
       "Longitude              -0.224745\n",
       "PropertyCount           1.080874\n",
       "Season                 -0.072997"
      ]
     },
     "execution_count": 20,
     "metadata": {},
     "output_type": "execute_result"
    }
   ],
   "source": [
    "skew = Housing.skew(numeric_only=True)\n",
    "skew = pd.DataFrame(skew, columns=['Variable skewness'])\n",
    "skew"
   ]
  },
  {
   "cell_type": "markdown",
   "id": "610f3116",
   "metadata": {},
   "source": [
    "### 2.2.5 Transformation of skewed features"
   ]
  },
  {
   "cell_type": "code",
   "execution_count": 21,
   "id": "0fb8f49d",
   "metadata": {},
   "outputs": [],
   "source": [
    "Transformed = pd.DataFrame()\n",
    "to_transform = [\"Distance\", \"PropertyCount\", \"Price\"]\n",
    "\n",
    "for x in to_transform:\n",
    "    Transformed[f'Log{x}'] = np.log(Housing[f'{x}'] + 1)\n",
    "    Transformed[f'Sqrt{x}'] = np.sqrt(Housing[f'{x}'])"
   ]
  },
  {
   "cell_type": "markdown",
   "id": "1bae4175",
   "metadata": {},
   "source": [
    "Skewness above 1 was eliminated with log and sqrt transformation. Also dependent variable was transformated for better fit to model."
   ]
  },
  {
   "cell_type": "code",
   "execution_count": 22,
   "id": "04e77bdc",
   "metadata": {},
   "outputs": [
    {
     "data": {
      "text/html": [
       "<div>\n",
       "<style scoped>\n",
       "    .dataframe tbody tr th:only-of-type {\n",
       "        vertical-align: middle;\n",
       "    }\n",
       "\n",
       "    .dataframe tbody tr th {\n",
       "        vertical-align: top;\n",
       "    }\n",
       "\n",
       "    .dataframe thead th {\n",
       "        text-align: right;\n",
       "    }\n",
       "</style>\n",
       "<table border=\"1\" class=\"dataframe\">\n",
       "  <thead>\n",
       "    <tr style=\"text-align: right;\">\n",
       "      <th></th>\n",
       "      <th>Variable skewness</th>\n",
       "    </tr>\n",
       "  </thead>\n",
       "  <tbody>\n",
       "    <tr>\n",
       "      <th>LogDistance</th>\n",
       "      <td>-0.368938</td>\n",
       "    </tr>\n",
       "    <tr>\n",
       "      <th>SqrtDistance</th>\n",
       "      <td>0.397183</td>\n",
       "    </tr>\n",
       "    <tr>\n",
       "      <th>LogPropertyCount</th>\n",
       "      <td>-0.653855</td>\n",
       "    </tr>\n",
       "    <tr>\n",
       "      <th>SqrtPropertyCount</th>\n",
       "      <td>0.303363</td>\n",
       "    </tr>\n",
       "    <tr>\n",
       "      <th>LogPrice</th>\n",
       "      <td>-0.173954</td>\n",
       "    </tr>\n",
       "    <tr>\n",
       "      <th>SqrtPrice</th>\n",
       "      <td>0.336023</td>\n",
       "    </tr>\n",
       "  </tbody>\n",
       "</table>\n",
       "</div>"
      ],
      "text/plain": [
       "                   Variable skewness\n",
       "LogDistance                -0.368938\n",
       "SqrtDistance                0.397183\n",
       "LogPropertyCount           -0.653855\n",
       "SqrtPropertyCount           0.303363\n",
       "LogPrice                   -0.173954\n",
       "SqrtPrice                   0.336023"
      ]
     },
     "execution_count": 22,
     "metadata": {},
     "output_type": "execute_result"
    }
   ],
   "source": [
    "skew = Transformed.skew()\n",
    "skew = pd.DataFrame(skew, columns=['Variable skewness'])\n",
    "skew"
   ]
  },
  {
   "cell_type": "code",
   "execution_count": 23,
   "id": "c01332a3",
   "metadata": {},
   "outputs": [],
   "source": [
    "Housing['LogPrice'] = np.log(Housing['Price'] + 1)\n",
    "Housing['LogDistance'] = np.log(Housing['Distance'] + 1)\n",
    "Housing['SqrtPropertyCount'] = np.sqrt(Housing['PropertyCount'])\n",
    "\n",
    "Housing.drop(axis=1, columns=['Price', 'Distance', 'PropertyCount'], inplace=True)"
   ]
  },
  {
   "cell_type": "markdown",
   "id": "99379055",
   "metadata": {},
   "source": [
    "### 2.2.6 Encoding of categorical features"
   ]
  },
  {
   "cell_type": "code",
   "execution_count": 24,
   "id": "31a582f7",
   "metadata": {
    "scrolled": true
   },
   "outputs": [
    {
     "data": {
      "text/html": [
       "<div>\n",
       "<style scoped>\n",
       "    .dataframe tbody tr th:only-of-type {\n",
       "        vertical-align: middle;\n",
       "    }\n",
       "\n",
       "    .dataframe tbody tr th {\n",
       "        vertical-align: top;\n",
       "    }\n",
       "\n",
       "    .dataframe thead th {\n",
       "        text-align: right;\n",
       "    }\n",
       "</style>\n",
       "<table border=\"1\" class=\"dataframe\">\n",
       "  <thead>\n",
       "    <tr style=\"text-align: right;\">\n",
       "      <th></th>\n",
       "      <th>Suburb</th>\n",
       "      <th>Type</th>\n",
       "      <th>Method</th>\n",
       "      <th>CouncilArea</th>\n",
       "      <th>RegionName</th>\n",
       "    </tr>\n",
       "  </thead>\n",
       "  <tbody>\n",
       "    <tr>\n",
       "      <th>count</th>\n",
       "      <td>11938</td>\n",
       "      <td>11938</td>\n",
       "      <td>11938</td>\n",
       "      <td>11938</td>\n",
       "      <td>11938</td>\n",
       "    </tr>\n",
       "    <tr>\n",
       "      <th>unique</th>\n",
       "      <td>307</td>\n",
       "      <td>3</td>\n",
       "      <td>5</td>\n",
       "      <td>33</td>\n",
       "      <td>8</td>\n",
       "    </tr>\n",
       "    <tr>\n",
       "      <th>top</th>\n",
       "      <td>Reservoir</td>\n",
       "      <td>h</td>\n",
       "      <td>S</td>\n",
       "      <td>Moreland</td>\n",
       "      <td>Southern Metropolitan</td>\n",
       "    </tr>\n",
       "    <tr>\n",
       "      <th>freq</th>\n",
       "      <td>327</td>\n",
       "      <td>8138</td>\n",
       "      <td>8019</td>\n",
       "      <td>1188</td>\n",
       "      <td>3865</td>\n",
       "    </tr>\n",
       "  </tbody>\n",
       "</table>\n",
       "</div>"
      ],
      "text/plain": [
       "           Suburb   Type Method CouncilArea             RegionName\n",
       "count       11938  11938  11938       11938                  11938\n",
       "unique        307      3      5          33                      8\n",
       "top     Reservoir      h      S    Moreland  Southern Metropolitan\n",
       "freq          327   8138   8019        1188                   3865"
      ]
     },
     "execution_count": 24,
     "metadata": {},
     "output_type": "execute_result"
    }
   ],
   "source": [
    "Housing.describe(include='object')"
   ]
  },
  {
   "cell_type": "code",
   "execution_count": 25,
   "id": "50173c8e",
   "metadata": {},
   "outputs": [],
   "source": [
    "be = ce.BinaryEncoder(cols=['Suburb', 'CouncilArea'])\n",
    "Housing = be.fit_transform(Housing)"
   ]
  },
  {
   "cell_type": "code",
   "execution_count": 26,
   "id": "776680e6",
   "metadata": {},
   "outputs": [],
   "source": [
    "Housing = pd.get_dummies(Housing, columns=['Type', 'Method', 'RegionName'], drop_first=True)"
   ]
  },
  {
   "cell_type": "code",
   "execution_count": 27,
   "id": "a8e13641",
   "metadata": {},
   "outputs": [
    {
     "data": {
      "text/plain": [
       "Index(['Suburb_0', 'Suburb_1', 'Suburb_2', 'Suburb_3', 'Suburb_4', 'Suburb_5',\n",
       "       'Suburb_6', 'Suburb_7', 'Suburb_8', 'Rooms', 'Bedrooms', 'Bathrooms',\n",
       "       'CarSpots', 'LandSize', 'BuildingArea', 'YearBuilt', 'CouncilArea_0',\n",
       "       'CouncilArea_1', 'CouncilArea_2', 'CouncilArea_3', 'CouncilArea_4',\n",
       "       'CouncilArea_5', 'Latitude', 'Longitude', 'Season', 'LogPrice',\n",
       "       'LogDistance', 'SqrtPropertyCount', 'Type_t', 'Type_u', 'Method_S',\n",
       "       'Method_SA', 'Method_SP', 'Method_VB', 'RegionName_Eastern Victoria',\n",
       "       'RegionName_Northern Metropolitan', 'RegionName_Northern Victoria',\n",
       "       'RegionName_South-Eastern Metropolitan',\n",
       "       'RegionName_Southern Metropolitan', 'RegionName_Western Metropolitan',\n",
       "       'RegionName_Western Victoria'],\n",
       "      dtype='object')"
      ]
     },
     "execution_count": 27,
     "metadata": {},
     "output_type": "execute_result"
    }
   ],
   "source": [
    "Housing.columns"
   ]
  },
  {
   "cell_type": "markdown",
   "id": "07c0aa64",
   "metadata": {},
   "source": [
    "Categorical variables were encoded with two methods depending on unique values number. When < 10 unique values encoded with get dummies (drop_first=True reduces multicollinearity between new variables). Suburb and CouncilArea encoded with BinaryEncoder."
   ]
  },
  {
   "cell_type": "markdown",
   "id": "97bb356b",
   "metadata": {},
   "source": [
    "### 2.2.7 Multicollinearity test "
   ]
  },
  {
   "cell_type": "code",
   "execution_count": 28,
   "id": "81a37182",
   "metadata": {},
   "outputs": [
    {
     "data": {
      "text/plain": [
       "const                                    8.993700e+06\n",
       "Suburb_0                                 1.639359e+00\n",
       "Suburb_1                                 1.714294e+00\n",
       "Suburb_2                                 1.283243e+00\n",
       "Suburb_3                                 1.259726e+00\n",
       "Suburb_4                                 1.166186e+00\n",
       "Suburb_5                                 1.128261e+00\n",
       "Suburb_6                                 1.099460e+00\n",
       "Suburb_7                                 1.119654e+00\n",
       "Suburb_8                                 1.119433e+00\n",
       "Rooms                                    1.198433e+01\n",
       "Bedrooms                                 1.143371e+01\n",
       "Bathrooms                                1.673626e+00\n",
       "CarSpots                                 1.351754e+00\n",
       "LandSize                                 2.053653e+00\n",
       "BuildingArea                             1.508409e+00\n",
       "YearBuilt                                1.300131e+00\n",
       "CouncilArea_0                            1.177433e+00\n",
       "CouncilArea_1                            2.214394e+00\n",
       "CouncilArea_2                            1.871989e+00\n",
       "CouncilArea_3                            1.662832e+00\n",
       "CouncilArea_4                            2.362189e+00\n",
       "CouncilArea_5                            1.629540e+00\n",
       "Latitude                                 3.228465e+00\n",
       "Longitude                                4.505976e+00\n",
       "Season                                   1.002717e+00\n",
       "LogDistance                              2.420434e+00\n",
       "SqrtPropertyCount                        1.555745e+00\n",
       "Type_t                                   1.308146e+00\n",
       "Type_u                                   1.973879e+00\n",
       "Method_S                                 2.372538e+00\n",
       "Method_SA                                1.064277e+00\n",
       "Method_SP                                1.940118e+00\n",
       "Method_VB                                1.621243e+00\n",
       "RegionName_Eastern Victoria              1.173827e+00\n",
       "RegionName_Northern Metropolitan         7.105070e+00\n",
       "RegionName_Northern Victoria             1.185705e+00\n",
       "RegionName_South-Eastern Metropolitan    2.396569e+00\n",
       "RegionName_Southern Metropolitan         6.300133e+00\n",
       "RegionName_Western Metropolitan          9.335769e+00\n",
       "RegionName_Western Victoria              1.399082e+00\n",
       "dtype: float64"
      ]
     },
     "execution_count": 28,
     "metadata": {},
     "output_type": "execute_result"
    }
   ],
   "source": [
    "X = add_constant(Housing.drop(axis=1, columns=['LogPrice']))\n",
    "\n",
    "pd.Series([variance_inflation_factor(X.values, i) \n",
    "           for i in range(X.shape[1])], \n",
    "           index=X.columns)"
   ]
  },
  {
   "cell_type": "code",
   "execution_count": 29,
   "id": "1d020909",
   "metadata": {},
   "outputs": [],
   "source": [
    "Housing.drop(axis=1, columns=['Rooms'], inplace=True)"
   ]
  },
  {
   "cell_type": "markdown",
   "id": "63202650",
   "metadata": {},
   "source": [
    "Variance inflation factor suggested that rooms and bedrooms are highly correlated and one should be deleted (As it was noted on correlation matrix). "
   ]
  },
  {
   "cell_type": "code",
   "execution_count": 30,
   "id": "75016350",
   "metadata": {},
   "outputs": [
    {
     "data": {
      "text/plain": [
       "Suburb_0                                 1.639238\n",
       "Suburb_1                                 1.714141\n",
       "Suburb_2                                 1.283162\n",
       "Suburb_3                                 1.259634\n",
       "Suburb_4                                 1.166081\n",
       "Suburb_5                                 1.128210\n",
       "Suburb_6                                 1.099404\n",
       "Suburb_7                                 1.119616\n",
       "Suburb_8                                 1.119401\n",
       "Bedrooms                                 2.305647\n",
       "Bathrooms                                1.641004\n",
       "CarSpots                                 1.351537\n",
       "LandSize                                 2.047851\n",
       "BuildingArea                             1.499683\n",
       "YearBuilt                                1.299324\n",
       "CouncilArea_0                            1.177273\n",
       "CouncilArea_1                            2.214208\n",
       "CouncilArea_2                            1.870032\n",
       "CouncilArea_3                            1.662759\n",
       "CouncilArea_4                            2.362129\n",
       "CouncilArea_5                            1.629540\n",
       "Latitude                                 3.228464\n",
       "Longitude                                4.504557\n",
       "Season                                   1.002418\n",
       "LogDistance                              2.420021\n",
       "SqrtPropertyCount                        1.555723\n",
       "Type_t                                   1.306389\n",
       "Type_u                                   1.950145\n",
       "Method_S                                 2.372532\n",
       "Method_SA                                1.064177\n",
       "Method_SP                                1.939897\n",
       "Method_VB                                1.621243\n",
       "RegionName_Eastern Victoria              1.173753\n",
       "RegionName_Northern Metropolitan         7.104844\n",
       "RegionName_Northern Victoria             1.185700\n",
       "RegionName_South-Eastern Metropolitan    2.396528\n",
       "RegionName_Southern Metropolitan         6.300093\n",
       "RegionName_Western Metropolitan          9.333159\n",
       "RegionName_Western Victoria              1.398957\n",
       "dtype: float64"
      ]
     },
     "execution_count": 30,
     "metadata": {},
     "output_type": "execute_result"
    }
   ],
   "source": [
    "X = add_constant(Housing.drop(axis=1, columns=['LogPrice']))\n",
    "\n",
    "vif = pd.Series([variance_inflation_factor(X.values, i) \n",
    "           for i in range(X.shape[1])], \n",
    "           index=X.columns)\n",
    "vif.iloc[1:]"
   ]
  },
  {
   "cell_type": "markdown",
   "id": "4acfbd22",
   "metadata": {},
   "source": [
    "### 2.2.8 Train-test split"
   ]
  },
  {
   "cell_type": "code",
   "execution_count": 31,
   "id": "933f9b92",
   "metadata": {},
   "outputs": [],
   "source": [
    "X = Housing.drop(axis=1, columns=['LogPrice'])\n",
    "y = Housing['LogPrice'].values"
   ]
  },
  {
   "cell_type": "code",
   "execution_count": 32,
   "id": "2d156f7a",
   "metadata": {},
   "outputs": [],
   "source": [
    "X_train, X_test, y_train, y_test = train_test_split(X, y, test_size=0.2, random_state=seed)"
   ]
  },
  {
   "cell_type": "markdown",
   "id": "4f280848",
   "metadata": {},
   "source": [
    "### 2.2.9 Features scalling"
   ]
  },
  {
   "cell_type": "code",
   "execution_count": 33,
   "id": "18134a21",
   "metadata": {},
   "outputs": [],
   "source": [
    "scaler = RobustScaler()"
   ]
  },
  {
   "cell_type": "code",
   "execution_count": 34,
   "id": "27a121f1",
   "metadata": {},
   "outputs": [],
   "source": [
    "X_train = scaler.fit_transform(X_train)\n",
    "X_test = scaler.transform(X_test)"
   ]
  },
  {
   "cell_type": "markdown",
   "id": "2f1fce5f",
   "metadata": {},
   "source": [
    "Robust scaler ignores outliers and was applied because some of variables have significant outliers e.g. longitude and latitude. "
   ]
  },
  {
   "cell_type": "code",
   "execution_count": 35,
   "id": "0bb040fc",
   "metadata": {},
   "outputs": [],
   "source": [
    "X.to_csv('../Data/PreparedFeatures.csv', sep='\\t', index=False)\n",
    "savetxt('../Data/X_train.csv', X_train, delimiter=',')\n",
    "savetxt('../Data/y_train.csv', y_train, delimiter=',')\n",
    "savetxt('../Data/X_test.csv', X_test, delimiter=',')\n",
    "savetxt('../Data/y_test.csv', y_test, delimiter=',')"
   ]
  },
  {
   "cell_type": "markdown",
   "id": "eca5aaad",
   "metadata": {},
   "source": [
    "## 2.3 Basic models training"
   ]
  },
  {
   "cell_type": "code",
   "execution_count": 36,
   "id": "1804e3ba",
   "metadata": {},
   "outputs": [],
   "source": [
    "result = pd.DataFrame(columns=['Algorithm', 'Adjusted R-squared', 'MSE', 'RMSE', 'MAE'])\n",
    "\n",
    "def results(name):\n",
    "    adj_r2 = 1 - (1-metrics.r2_score(y_test, y_pred)) * (len(y_test)-1)/(len(y_test)-X_test.shape[1]-1)\n",
    "    \n",
    "    result.loc[len(result.index)] = [\n",
    "        name, adj_r2, metrics.mean_squared_error(y_test, y_pred),\n",
    "        math.sqrt(metrics.mean_squared_error(y_test, y_pred)),\n",
    "        metrics.mean_absolute_error(y_test, y_pred)\n",
    "    ]"
   ]
  },
  {
   "cell_type": "markdown",
   "id": "3f6e3a55",
   "metadata": {},
   "source": [
    "Function append to dataframe models performances."
   ]
  },
  {
   "cell_type": "markdown",
   "id": "de981673",
   "metadata": {},
   "source": [
    "### 2.3.1 Linear regression"
   ]
  },
  {
   "cell_type": "code",
   "execution_count": 37,
   "id": "9a64b55e",
   "metadata": {},
   "outputs": [],
   "source": [
    "lr = LinearRegression()\n",
    "lr.fit(X_train, y_train)\n",
    "y_pred = lr.predict(X_test)"
   ]
  },
  {
   "cell_type": "code",
   "execution_count": 38,
   "id": "f32ed7c0",
   "metadata": {},
   "outputs": [],
   "source": [
    "results('Linear regression')"
   ]
  },
  {
   "cell_type": "markdown",
   "id": "5480034d",
   "metadata": {},
   "source": [
    "### 2.3.2 RANSAC regression"
   ]
  },
  {
   "cell_type": "code",
   "execution_count": 39,
   "id": "dd4205f7",
   "metadata": {},
   "outputs": [],
   "source": [
    "rr = RANSACRegressor(random_state=seed)\n",
    "rr.fit(X_train, y_train)\n",
    "y_pred = rr.predict(X_test)"
   ]
  },
  {
   "cell_type": "code",
   "execution_count": 40,
   "id": "58b6cf88",
   "metadata": {},
   "outputs": [],
   "source": [
    "results('RANSAC')"
   ]
  },
  {
   "cell_type": "markdown",
   "id": "b1ebabb3",
   "metadata": {},
   "source": [
    "### 2.3.3 Random forrest regression"
   ]
  },
  {
   "cell_type": "code",
   "execution_count": 41,
   "id": "3e69a1fa",
   "metadata": {},
   "outputs": [],
   "source": [
    "rf = RandomForestRegressor(random_state=seed)\n",
    "rf.fit(X_train, y_train)\n",
    "y_pred = rf.predict(X_test)"
   ]
  },
  {
   "cell_type": "code",
   "execution_count": 42,
   "id": "807868d7",
   "metadata": {},
   "outputs": [],
   "source": [
    "results('Random forrest')"
   ]
  },
  {
   "cell_type": "markdown",
   "id": "3fa0cb8a",
   "metadata": {},
   "source": [
    "### 2.3.4 Support vector regression"
   ]
  },
  {
   "cell_type": "code",
   "execution_count": 43,
   "id": "56308bf8",
   "metadata": {},
   "outputs": [],
   "source": [
    "svr = SVR()\n",
    "svr.fit(X_train, y_train)\n",
    "y_pred = svr.predict(X_test)"
   ]
  },
  {
   "cell_type": "code",
   "execution_count": 44,
   "id": "238e4290",
   "metadata": {},
   "outputs": [],
   "source": [
    "results('SVR')"
   ]
  },
  {
   "cell_type": "markdown",
   "id": "632bd940",
   "metadata": {},
   "source": [
    "### 2.3.5 XGBoost regression"
   ]
  },
  {
   "cell_type": "code",
   "execution_count": 45,
   "id": "aba4a531",
   "metadata": {},
   "outputs": [],
   "source": [
    "xgbr = XGBRegressor()\n",
    "xgbr.fit(X_train, y_train)\n",
    "y_pred = xgbr.predict(X_test)"
   ]
  },
  {
   "cell_type": "code",
   "execution_count": 46,
   "id": "d42259c0",
   "metadata": {},
   "outputs": [],
   "source": [
    "results('XGBR')"
   ]
  },
  {
   "cell_type": "markdown",
   "id": "bb95433c",
   "metadata": {},
   "source": [
    "### 2.3.6 Models performance comparison"
   ]
  },
  {
   "cell_type": "code",
   "execution_count": 47,
   "id": "46446b3c",
   "metadata": {},
   "outputs": [
    {
     "data": {
      "text/html": [
       "<style type=\"text/css\">\n",
       "#T_3b0ba_row0_col1 {\n",
       "  background-color: #dd3597;\n",
       "  color: #f1f1f1;\n",
       "}\n",
       "#T_3b0ba_row1_col1 {\n",
       "  background-color: #fff7f3;\n",
       "  color: #000000;\n",
       "}\n",
       "#T_3b0ba_row2_col1 {\n",
       "  background-color: #710175;\n",
       "  color: #f1f1f1;\n",
       "}\n",
       "#T_3b0ba_row3_col1 {\n",
       "  background-color: #730175;\n",
       "  color: #f1f1f1;\n",
       "}\n",
       "#T_3b0ba_row4_col1 {\n",
       "  background-color: #6c0173;\n",
       "  color: #f1f1f1;\n",
       "}\n",
       "#T_3b0ba_row4_col2, #T_3b0ba_row4_col3, #T_3b0ba_row4_col4 {\n",
       "  background-color: pink;\n",
       "}\n",
       "</style>\n",
       "<table id=\"T_3b0ba\">\n",
       "  <thead>\n",
       "    <tr>\n",
       "      <th class=\"blank level0\" >&nbsp;</th>\n",
       "      <th id=\"T_3b0ba_level0_col0\" class=\"col_heading level0 col0\" >Algorithm</th>\n",
       "      <th id=\"T_3b0ba_level0_col1\" class=\"col_heading level0 col1\" >Adjusted R-squared</th>\n",
       "      <th id=\"T_3b0ba_level0_col2\" class=\"col_heading level0 col2\" >MSE</th>\n",
       "      <th id=\"T_3b0ba_level0_col3\" class=\"col_heading level0 col3\" >RMSE</th>\n",
       "      <th id=\"T_3b0ba_level0_col4\" class=\"col_heading level0 col4\" >MAE</th>\n",
       "    </tr>\n",
       "  </thead>\n",
       "  <tbody>\n",
       "    <tr>\n",
       "      <th id=\"T_3b0ba_level0_row0\" class=\"row_heading level0 row0\" >0</th>\n",
       "      <td id=\"T_3b0ba_row0_col0\" class=\"data row0 col0\" >Linear regression</td>\n",
       "      <td id=\"T_3b0ba_row0_col1\" class=\"data row0 col1\" >0.727396</td>\n",
       "      <td id=\"T_3b0ba_row0_col2\" class=\"data row0 col2\" >0.057905</td>\n",
       "      <td id=\"T_3b0ba_row0_col3\" class=\"data row0 col3\" >0.240635</td>\n",
       "      <td id=\"T_3b0ba_row0_col4\" class=\"data row0 col4\" >0.188459</td>\n",
       "    </tr>\n",
       "    <tr>\n",
       "      <th id=\"T_3b0ba_level0_row1\" class=\"row_heading level0 row1\" >1</th>\n",
       "      <td id=\"T_3b0ba_row1_col0\" class=\"data row1 col0\" >RANSAC</td>\n",
       "      <td id=\"T_3b0ba_row1_col1\" class=\"data row1 col1\" >0.429303</td>\n",
       "      <td id=\"T_3b0ba_row1_col2\" class=\"data row1 col2\" >0.121225</td>\n",
       "      <td id=\"T_3b0ba_row1_col3\" class=\"data row1 col3\" >0.348174</td>\n",
       "      <td id=\"T_3b0ba_row1_col4\" class=\"data row1 col4\" >0.262522</td>\n",
       "    </tr>\n",
       "    <tr>\n",
       "      <th id=\"T_3b0ba_level0_row2\" class=\"row_heading level0 row2\" >2</th>\n",
       "      <td id=\"T_3b0ba_row2_col0\" class=\"data row2 col0\" >Random forrest</td>\n",
       "      <td id=\"T_3b0ba_row2_col1\" class=\"data row2 col1\" >0.857893</td>\n",
       "      <td id=\"T_3b0ba_row2_col2\" class=\"data row2 col2\" >0.030186</td>\n",
       "      <td id=\"T_3b0ba_row2_col3\" class=\"data row2 col3\" >0.173740</td>\n",
       "      <td id=\"T_3b0ba_row2_col4\" class=\"data row2 col4\" >0.130919</td>\n",
       "    </tr>\n",
       "    <tr>\n",
       "      <th id=\"T_3b0ba_level0_row3\" class=\"row_heading level0 row3\" >3</th>\n",
       "      <td id=\"T_3b0ba_row3_col0\" class=\"data row3 col0\" >SVR</td>\n",
       "      <td id=\"T_3b0ba_row3_col1\" class=\"data row3 col1\" >0.856655</td>\n",
       "      <td id=\"T_3b0ba_row3_col2\" class=\"data row3 col2\" >0.030449</td>\n",
       "      <td id=\"T_3b0ba_row3_col3\" class=\"data row3 col3\" >0.174496</td>\n",
       "      <td id=\"T_3b0ba_row3_col4\" class=\"data row3 col4\" >0.133717</td>\n",
       "    </tr>\n",
       "    <tr>\n",
       "      <th id=\"T_3b0ba_level0_row4\" class=\"row_heading level0 row4\" >4</th>\n",
       "      <td id=\"T_3b0ba_row4_col0\" class=\"data row4 col0\" >XGBR</td>\n",
       "      <td id=\"T_3b0ba_row4_col1\" class=\"data row4 col1\" >0.863789</td>\n",
       "      <td id=\"T_3b0ba_row4_col2\" class=\"data row4 col2\" >0.028933</td>\n",
       "      <td id=\"T_3b0ba_row4_col3\" class=\"data row4 col3\" >0.170098</td>\n",
       "      <td id=\"T_3b0ba_row4_col4\" class=\"data row4 col4\" >0.130664</td>\n",
       "    </tr>\n",
       "  </tbody>\n",
       "</table>\n"
      ],
      "text/plain": [
       "<pandas.io.formats.style.Styler at 0x21100386640>"
      ]
     },
     "execution_count": 47,
     "metadata": {},
     "output_type": "execute_result"
    }
   ],
   "source": [
    "result.style.background_gradient(subset=['Adjusted R-squared'], cmap='RdPu', high=0.1).highlight_min(subset=['MSE', 'RMSE', 'MAE'], color='pink')"
   ]
  },
  {
   "cell_type": "markdown",
   "id": "36219762",
   "metadata": {},
   "source": [
    "XGBoost Regressor gives best results among all algorithms in all measured values. Despite this also Random Forrest Regressor and Support Vector Regressor are considerable for further modelling. "
   ]
  }
 ],
 "metadata": {
  "kernelspec": {
   "display_name": "Python 3 (ipykernel)",
   "language": "python",
   "name": "python3"
  },
  "language_info": {
   "codemirror_mode": {
    "name": "ipython",
    "version": 3
   },
   "file_extension": ".py",
   "mimetype": "text/x-python",
   "name": "python",
   "nbconvert_exporter": "python",
   "pygments_lexer": "ipython3",
   "version": "3.9.12"
  }
 },
 "nbformat": 4,
 "nbformat_minor": 5
}
